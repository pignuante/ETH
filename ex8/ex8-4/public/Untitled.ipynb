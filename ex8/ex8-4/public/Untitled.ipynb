{
 "cells": [
  {
   "cell_type": "code",
   "execution_count": 32,
   "metadata": {},
   "outputs": [],
   "source": [
    "#!/usr/bin/env python3\n",
    "\n",
    "# The signatures of this class and its public methods are required for the automated grading to work.\n",
    "# You must not change the names or the list of parameters.\n",
    "# You may introduce private/protected utility methods though.\n",
    "class MagicDrawingBoard:\n",
    "    def __init__(self, x: int = 6, y: int = 4):\n",
    "        \"\"\"\n",
    "            Magic Drawing Board 를 생성하는 생성자\n",
    "        :param x: 보드의 X(가로) 크기\n",
    "        :param y: 볻의 Y(세로)의 크기\n",
    "        \"\"\"\n",
    "        ##################################################################################\n",
    "        ### 경고 메세지                                                                 ###\n",
    "        ### You implementation should handle invalid situations by raising a Warning  ###\n",
    "        ### 라고 적혀있는데 예외 사항 발생시 어떤식으로 처리하라는 가이드가 없어서 우선은        ###\n",
    "        ### print(error_message) 로 처리                                              ###\n",
    "        ################################################################################\n",
    "        self.__warning_message = \"Warning\"\n",
    "\n",
    "        ################################\n",
    "        ### 생성시 예외사항            ###\n",
    "        ### x, y 크기가 0보다 작을 경우 ###\n",
    "        ##############################\n",
    "        if x < 0 or y < 0:\n",
    "            print(self.__warning_message)\n",
    "        else:\n",
    "            # Board 의 크기를 맴버 변수로 저장, 후에 reset,  rect 등에서 보드 크기 확인할때 필요\n",
    "            self.__size = (x, y)\n",
    "            # board 를 배열의 형태로 저장\n",
    "            # 접근은 __board[y][x] 로 접근\n",
    "            self.__board = [[0 for xx in range(x)] for yy in range(y)]\n",
    "\n",
    "    def reset(self):\n",
    "        ##############################################\n",
    "        ### board에 저작된 pixels를 제거(0으로 만듬)  ###\n",
    "        ##############################################\n",
    "\n",
    "        self.__board = [\n",
    "            [0 for x in range(self.__size[0])] for y in range(self.__size[1])\n",
    "        ]\n",
    "\n",
    "    def pixel(self, xy: tuple = (1, 1)):\n",
    "        \"\"\"\n",
    "            x, y 에 해당하는 위치에 pixel 을 그림(0 -> 1)\n",
    "        :param xy: tuple, x = xy[0], y = xy[1]\n",
    "        \"\"\"\n",
    "        x, y = xy[0], xy[1]\n",
    "        ####################################################\n",
    "        ### pixel 을 그릴 때 예외 사항                      ###\n",
    "        ###     1. x 혹은  y 가 0 보다 작을 경우            ###\n",
    "        ###     2. x 혹은 y 가 board 의 크기 보다 클 경우    ###\n",
    "        ### 위 두가지 사항을 예외로 두고 에러 message 발생    ###\n",
    "        ### 배열의 크기가 x = 3, y = 6 일 경우              ###\n",
    "        ### x index 는 0,1,2이고 y index 는 1,2,3,4,5 임  ###\n",
    "        ### 따라서 최대 크기 설정시 size - 1 을 해야함       ###\n",
    "        ###################################################\n",
    "        if x < 0 or y < 0 or x > self.__size[0] - 1 or y > self.__size[1] - 1:\n",
    "            print(self.__warning_message)\n",
    "        else:\n",
    "            self.__board[y][x] = 1\n",
    "\n",
    "    def rect(self, start_xy: tuple = (2, 2), end_xy: tuple = (4, 3)):\n",
    "        \"\"\"\n",
    "            start_xy 와 end_xy 로 직사각형을 그리는 함수\n",
    "            좌표상 예외 발생시 Warning을 print\n",
    "        :param start_xy: (x, y)\n",
    "        :param end_xy:   (x, y)\n",
    "        \"\"\"\n",
    "        x1, y1 = start_xy[0], start_xy[1]\n",
    "        ############################\n",
    "        ### exclusive 해야하므로   ###\n",
    "        ############################\n",
    "        x2, y2 = end_xy[0] - 1, end_xy[1] - 1\n",
    "\n",
    "        # x, y 가 0보다 작을 경우\n",
    "        if x1 < 0 or y1 < 0 or x2 < 0 or y2 < 0:\n",
    "            print(\"Warning\")\n",
    "        #     x, y 가 board 의 크기 보다 클 경우\n",
    "        elif x1 > self.__size[0] - 1 or x2 > self.__size[0] - 1 or y1 > self.__size[1] - 1 or y2 > self.__size[1] - 1:\n",
    "            print(\"Warning\")\n",
    "        #     x1, y1 이 x2, y2 보다 클 경우\n",
    "        elif x2 < x1 or y2 < y1:\n",
    "            print(\"Warning\")\n",
    "        else:\n",
    "            for y in range(y1, y2 + 1):\n",
    "                for x in range(x1, x2 + 1):\n",
    "                    self.pixel((x, y))\n",
    "\n",
    "    def img(self):\n",
    "        # board 에 저장된 pixel 을 문자열로 바꿔서 출력\n",
    "        img = \"\"\n",
    "\n",
    "        for y in self.__board:\n",
    "            for x in y:\n",
    "                img += str(x)\n",
    "            img += \"\\n\"\n",
    "        return img.strip()\n",
    "\n",
    "\n",
    "\n"
   ]
  },
  {
   "cell_type": "code",
   "execution_count": 33,
   "metadata": {},
   "outputs": [],
   "source": [
    "# You can play around with your implementation in the body of the following 'if'.\n",
    "# The contained statements will be ignored while evaluating your solution.\n",
    "\n",
    "db = MagicDrawingBoard(6, 4)\n",
    "# db.pixel((1, 1))\n",
    "# db.rect((2, 2), (5, 4))\n",
    "# print(\"After drawing:\")\n",
    "# print(db.img())\n",
    "# db.reset()\n",
    "# print(\"After resetting:\")\n",
    "# print(db.img())\n"
   ]
  },
  {
   "cell_type": "code",
   "execution_count": 45,
   "metadata": {},
   "outputs": [
    {
     "name": "stdout",
     "output_type": "stream",
     "text": [
      "000000\n",
      "000000\n",
      "000000\n",
      "000000\n",
      "\n",
      "100000\n",
      "000000\n",
      "000000\n",
      "000000\n"
     ]
    }
   ],
   "source": [
    "# db.pixel((0, 0))\n",
    "db.reset()\n",
    "print(db.img())\n",
    "print()\n",
    "db.rect((0, 0), (1, 1))\n",
    "print(db.img())"
   ]
  },
  {
   "cell_type": "code",
   "execution_count": null,
   "metadata": {},
   "outputs": [],
   "source": []
  },
  {
   "cell_type": "code",
   "execution_count": null,
   "metadata": {},
   "outputs": [],
   "source": []
  },
  {
   "cell_type": "code",
   "execution_count": null,
   "metadata": {},
   "outputs": [],
   "source": []
  },
  {
   "cell_type": "code",
   "execution_count": null,
   "metadata": {},
   "outputs": [],
   "source": []
  },
  {
   "cell_type": "code",
   "execution_count": null,
   "metadata": {},
   "outputs": [],
   "source": []
  },
  {
   "cell_type": "markdown",
   "metadata": {},
   "source": [
    "000000\n",
    "010000\n",
    "001110\n",
    "001110\n",
    "\n",
    "000000\n",
    "010000\n",
    "001110\n",
    "001110"
   ]
  },
  {
   "cell_type": "code",
   "execution_count": 23,
   "metadata": {},
   "outputs": [],
   "source": [
    "from unittest import TestCase"
   ]
  },
  {
   "cell_type": "code",
   "execution_count": 34,
   "metadata": {},
   "outputs": [],
   "source": [
    "class PublicTestSuite(TestCase):\n",
    "\n",
    "    def test_example(self):\n",
    "        db = MagicDrawingBoard(6, 4)\n",
    "        db.pixel((1, 1))\n",
    "        db.rect((2, 2), (5, 4))\n",
    "        actual = db.img()\n",
    "        expected = \"\\n\".join([\"000000\",\n",
    "                              \"010000\",\n",
    "                              \"001110\",\n",
    "                              \"001110\"])\n",
    "        self.assertEqual(expected, actual)\n",
    "\n",
    "\n",
    "pt = PublicTestSuite()\n",
    "pt.test_example()"
   ]
  },
  {
   "cell_type": "code",
   "execution_count": 27,
   "metadata": {},
   "outputs": [
    {
     "data": {
      "text/plain": [
       "'000000\\n010000\\n001110\\n001110'"
      ]
     },
     "execution_count": 27,
     "metadata": {},
     "output_type": "execute_result"
    }
   ],
   "source": [
    "expected"
   ]
  },
  {
   "cell_type": "code",
   "execution_count": 31,
   "metadata": {},
   "outputs": [
    {
     "data": {
      "text/plain": [
       "'000000\\n010000\\n001110\\n001110'"
      ]
     },
     "execution_count": 31,
     "metadata": {},
     "output_type": "execute_result"
    }
   ],
   "source": [
    "actual.strip()"
   ]
  },
  {
   "cell_type": "code",
   "execution_count": null,
   "metadata": {},
   "outputs": [],
   "source": []
  },
  {
   "cell_type": "code",
   "execution_count": null,
   "metadata": {},
   "outputs": [],
   "source": []
  },
  {
   "cell_type": "code",
   "execution_count": null,
   "metadata": {},
   "outputs": [],
   "source": []
  }
 ],
 "metadata": {
  "kernelspec": {
   "display_name": "plotly",
   "language": "python",
   "name": "plotly"
  },
  "language_info": {
   "codemirror_mode": {
    "name": "ipython",
    "version": 3
   },
   "file_extension": ".py",
   "mimetype": "text/x-python",
   "name": "python",
   "nbconvert_exporter": "python",
   "pygments_lexer": "ipython3",
   "version": "3.8.2"
  }
 },
 "nbformat": 4,
 "nbformat_minor": 4
}
