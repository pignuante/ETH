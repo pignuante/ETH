{
 "cells": [
  {
   "cell_type": "code",
   "execution_count": 1,
   "metadata": {},
   "outputs": [],
   "source": [
    "from character import Character"
   ]
  },
  {
   "cell_type": "code",
   "execution_count": null,
   "metadata": {},
   "outputs": [],
   "source": []
  },
  {
   "cell_type": "code",
   "execution_count": null,
   "metadata": {},
   "outputs": [],
   "source": []
  },
  {
   "cell_type": "code",
   "execution_count": null,
   "metadata": {},
   "outputs": [],
   "source": []
  },
  {
   "cell_type": "code",
   "execution_count": 59,
   "metadata": {},
   "outputs": [],
   "source": [
    "class Rogue(Character):\n",
    "    def __init__(self, *kwargs):\n",
    "        super(Rogue, self).__init__(*kwargs)\n",
    "\n",
    "\n",
    "class Knight(Character):\n",
    "    def __init__(self, *kwargs):\n",
    "        super(Knight, self).__init__(*kwargs)\n",
    "        self.__reduce_dmg = (1 - 0.25)\n",
    "        self.__reduce_atk = (1 - 0.2)\n",
    "\n",
    "    def _get_caused_dmg(self, other):\n",
    "        assert isinstance(other, Character)\n",
    "        assert self is not other\n",
    "\n",
    "        return max(1, int(((self._lvl * 10) - other._lvl) * self.__reduce_atk))\n",
    "\n",
    "    def _take_physical_damage(self, amount):\n",
    "        assert isinstance(amount, int)\n",
    "        assert amount >= 0\n",
    "        self._health_cur = max(0, self._health_cur -\n",
    "                               int(round(amount * self.__reduce_dmg)))\n",
    "\n",
    "\n",
    "class Mage(Character):\n",
    "    def __init__(self, *kwargs):\n",
    "        super(Mage, self).__init__(*kwargs)\n",
    "        self.__reduce_dmg = (1 - (-0.5))\n",
    "        self.__reduce_atk = (1 - (-0.25))\n",
    "\n",
    "    def attack(self, other):\n",
    "        assert isinstance(other, Character)\n",
    "\n",
    "        assert self is not other\n",
    "\n",
    "        if not self.is_alive():\n",
    "            raise Warning(\"Character is dead!\")\n",
    "        # 나중에 여기를 _take_magical_damage 로 변경하면..\n",
    "        # 그래서 미리 Overriding 해둠\n",
    "        other._take_physical_damage(self._get_caused_dmg(other))\n",
    "\n",
    "    def _get_caused_dmg(self, other):\n",
    "        assert isinstance(other, Character)\n",
    "        assert self is not other\n",
    "\n",
    "        return max(1, int(((self._lvl * 10) - other._lvl) * self.__reduce_atk))\n",
    "\n",
    "    def _take_physical_damage(self, amount):\n",
    "        assert isinstance(amount, int)\n",
    "        assert amount >= 0\n",
    "        self._health_cur = max(0, self._health_cur -\n",
    "                               int(round(amount * self.__reduce_dmg)))"
   ]
  },
  {
   "cell_type": "code",
   "execution_count": 53,
   "metadata": {},
   "outputs": [
    {
     "name": "stdout",
     "output_type": "stream",
     "text": [
      "Arthur (Knight, 12, 600/600)\n",
      "hanyul (Rouge, 12, 600/600)\n",
      "Arthur (Knight, 12, 519/600)\n",
      "hanyul (Rouge, 12, 514/600)\n"
     ]
    }
   ],
   "source": [
    "r = Rouge(\"hanyul\", 12)\n",
    "k = Knight(\"Arthur\", 12)\n",
    "print(k)\n",
    "print(r)\n",
    "r.attack(k)\n",
    "k.attack(r)\n",
    "print(k)\n",
    "print(r)"
   ]
  },
  {
   "cell_type": "code",
   "execution_count": 51,
   "metadata": {},
   "outputs": [
    {
     "name": "stdout",
     "output_type": "stream",
     "text": [
      "Arthur (Knight, 12, 600/600)\n",
      "hanyul (Rouge, 12, 600/600)\n",
      "Arthur (Knight, 12, 492/600)\n",
      "hanyul (Rouge, 12, 492/600)\n"
     ]
    }
   ],
   "source": [
    "r = Rouge(\"hanyul\", 12)\n",
    "k = Knight(\"Arthur\", 12)\n",
    "print(k)\n",
    "print(r)\n",
    "r.attack(k)\n",
    "k.attack(r)\n",
    "print(k)\n",
    "print(r)"
   ]
  },
  {
   "cell_type": "code",
   "execution_count": 10,
   "metadata": {},
   "outputs": [
    {
     "name": "stdout",
     "output_type": "stream",
     "text": [
      "Arthur (Knight, 12, 600/600)\n",
      "hanyul (Rouge, 12, 492/600)\n"
     ]
    }
   ],
   "source": [
    "r = Rouge(\"hanyul\", 12)\n",
    "k = Knight(\"Arthur\", 12)\n",
    "k.attack(r)\n",
    "print(k)\n",
    "print(r)"
   ]
  },
  {
   "cell_type": "code",
   "execution_count": null,
   "metadata": {},
   "outputs": [],
   "source": []
  },
  {
   "cell_type": "code",
   "execution_count": 60,
   "metadata": {},
   "outputs": [
    {
     "name": "stdout",
     "output_type": "stream",
     "text": [
      "Shades (Rogue, 11, 550/550) attacks Gandalf (Mage, 12, 600/600) and hits for 147 damage. Gandalf still has 453 (75.5%) health\n",
      "Gandalf (Mage, 12, 453/600) attacks Shades (Rogue, 11, 550/550) and hits for 136 damage. Shades still has 414 (75.3%) health\n",
      "Arthur (Knight, 12, 600/600) attacks Gandalf (Mage, 12, 453/600) and hits for 129 damage. Gandalf still has 324 (54.0%) health\n",
      "Shades (Rogue, 11, 414/550) attacks Gandalf (Mage, 12, 324/600) and hits for 147 damage. Gandalf still has 177 (29.5%) health\n",
      "Gandalf (Mage, 12, 177/600) attacks Arthur (Knight, 12, 600/600) and hits for 101 damage. Arthur still has 499 (83.2%) health\n",
      "Arthur (Knight, 12, 499/600) attacks Gandalf (Mage, 12, 177/600) and hits for 129 damage. Gandalf still has 48 (8.0%) health\n",
      "Shades (Rogue, 11, 414/550) attacks Gandalf (Mage, 12, 48/600) and hits for 48 damage. Gandalf died!\n",
      "Shades (Rogue, 11, 414/550) attacks Arthur (Knight, 12, 499/600) and hits for 74 damage. Arthur still has 425 (70.8%) health\n",
      "Arthur (Knight, 12, 425/600) attacks Shades (Rogue, 11, 414/550) and hits for 87 damage. Shades still has 327 (59.5%) health\n",
      "Shades (Rogue, 11, 327/550) attacks Arthur (Knight, 12, 425/600) and hits for 74 damage. Arthur still has 351 (58.5%) health\n",
      "Arthur (Knight, 12, 351/600) attacks Shades (Rogue, 11, 327/550) and hits for 87 damage. Shades still has 240 (43.6%) health\n",
      "Shades (Rogue, 11, 240/550) attacks Arthur (Knight, 12, 351/600) and hits for 74 damage. Arthur still has 277 (46.2%) health\n",
      "Arthur (Knight, 12, 277/600) attacks Shades (Rogue, 11, 240/550) and hits for 87 damage. Shades still has 153 (27.8%) health\n",
      "Shades (Rogue, 11, 153/550) attacks Arthur (Knight, 12, 277/600) and hits for 74 damage. Arthur still has 203 (33.8%) health\n",
      "Arthur (Knight, 12, 203/600) attacks Shades (Rogue, 11, 153/550) and hits for 87 damage. Shades still has 66 (12.0%) health\n",
      "Shades (Rogue, 11, 66/550) attacks Arthur (Knight, 12, 203/600) and hits for 74 damage. Arthur still has 129 (21.5%) health\n",
      "Arthur (Knight, 12, 129/600) attacks Shades (Rogue, 11, 66/550) and hits for 66 damage. Shades died!\n",
      "Arthur wins the battle!\n"
     ]
    }
   ],
   "source": [
    "def attack(c1, c2):\n",
    "    print(\"{} attacks {} \".format(c1, c2), end=\"\")\n",
    "\n",
    "    if not c2.is_alive():\n",
    "        print(\"{} is beating a dead horse!\".format(c1.get_name()))\n",
    "        return\n",
    "\n",
    "    life_before = c2.get_health()[0]\n",
    "    c1.attack(c2)\n",
    "    life_after = c2.get_health()[0]\n",
    "    dmg = life_before-life_after\n",
    "\n",
    "    print(\"and hits for {} damage. \".format(dmg), end=\"\")\n",
    "\n",
    "    if c2.is_alive():\n",
    "        life = c2.get_health()\n",
    "        perc = round(100 * life[0] / life[1], 1)\n",
    "        print(\"{} still has {} ({}%) health\".format(\n",
    "            c2.get_name(), life[0], perc))\n",
    "    else:\n",
    "        print(\"{} died!\".format(c2.get_name()))\n",
    "\n",
    "\n",
    "k = Knight(\"Arthur\", 12)\n",
    "m = Mage(\"Gandalf\", 12)\n",
    "r = Rogue(\"Shades\", 11)\n",
    "\n",
    "attack(r, m)\n",
    "attack(m, r)\n",
    "attack(k, m)\n",
    "\n",
    "attack(r, m)\n",
    "attack(m, k)\n",
    "attack(k, m)  # Gandalf dies\n",
    "attack(r, m)  # Shades is attacking a dead character\n",
    "\n",
    "while r.is_alive() and k.is_alive():\n",
    "    attack(r, k)\n",
    "    if k.is_alive():\n",
    "        attack(k, r)\n",
    "\n",
    "winner = r.get_name() if r.is_alive() else k.get_name()\n",
    "print(\"{} wins the battle!\".format(winner))  # Arthur"
   ]
  },
  {
   "cell_type": "code",
   "execution_count": null,
   "metadata": {},
   "outputs": [],
   "source": []
  },
  {
   "cell_type": "code",
   "execution_count": null,
   "metadata": {},
   "outputs": [],
   "source": []
  },
  {
   "cell_type": "code",
   "execution_count": null,
   "metadata": {},
   "outputs": [],
   "source": []
  },
  {
   "cell_type": "code",
   "execution_count": null,
   "metadata": {},
   "outputs": [],
   "source": []
  },
  {
   "cell_type": "code",
   "execution_count": null,
   "metadata": {},
   "outputs": [],
   "source": []
  },
  {
   "cell_type": "code",
   "execution_count": null,
   "metadata": {},
   "outputs": [],
   "source": []
  },
  {
   "cell_type": "code",
   "execution_count": null,
   "metadata": {},
   "outputs": [],
   "source": []
  },
  {
   "cell_type": "code",
   "execution_count": null,
   "metadata": {},
   "outputs": [],
   "source": []
  }
 ],
 "metadata": {
  "kernelspec": {
   "display_name": "plotly",
   "language": "python",
   "name": "plotly"
  },
  "language_info": {
   "codemirror_mode": {
    "name": "ipython",
    "version": 3
   },
   "file_extension": ".py",
   "mimetype": "text/x-python",
   "name": "python",
   "nbconvert_exporter": "python",
   "pygments_lexer": "ipython3",
   "version": "3.8.2"
  }
 },
 "nbformat": 4,
 "nbformat_minor": 2
}
